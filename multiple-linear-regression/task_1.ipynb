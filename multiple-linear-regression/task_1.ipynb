{
  "nbformat": 4,
  "nbformat_minor": 0,
  "metadata": {
    "colab": {
      "name": "task-1.ipynb",
      "provenance": [],
      "collapsed_sections": []
    },
    "kernelspec": {
      "name": "python3",
      "display_name": "Python 3"
    },
    "language_info": {
      "name": "python"
    }
  },
  "cells": [
    {
      "cell_type": "markdown",
      "metadata": {
        "id": "6Iov0WNQN2C7"
      },
      "source": [
        "#**Name:** Uber and Lyft Datset Boston\n",
        "**Target attribute :** Lets assume the target attribute is Price"
      ]
    },
    {
      "cell_type": "markdown",
      "metadata": {
        "id": "inx_EO96G4h3"
      },
      "source": [
        "#**1. Importing data and libraries**\n"
      ]
    },
    {
      "cell_type": "markdown",
      "metadata": {
        "id": "OeeaCAQmIrO8"
      },
      "source": [
        "##1.1 Importing libraries"
      ]
    },
    {
      "cell_type": "code",
      "metadata": {
        "colab": {
          "base_uri": "https://localhost:8080/"
        },
        "id": "K5EUNrMWImoC",
        "outputId": "d4bcdf3a-f19f-40cd-bd1a-60ed6742b01e"
      },
      "source": [
        "## for data\n",
        "import pandas as pd\n",
        "import numpy as np\n",
        "## for plotting\n",
        "import matplotlib.pyplot as plt\n",
        "import seaborn as sns\n",
        "## for statistical tests\n",
        "import scipy\n",
        "import statsmodels.formula.api as smf\n",
        "import statsmodels.api as sm\n",
        "## for machine learning\n",
        "from sklearn import model_selection, preprocessing, feature_selection, ensemble, linear_model, metrics, decomposition"
      ],
      "execution_count": 11,
      "outputs": [
        {
          "output_type": "stream",
          "text": [
            "/usr/local/lib/python3.7/dist-packages/statsmodels/tools/_testing.py:19: FutureWarning: pandas.util.testing is deprecated. Use the functions in the public API at pandas.testing instead.\n",
            "  import pandas.util.testing as tm\n"
          ],
          "name": "stderr"
        }
      ]
    },
    {
      "cell_type": "markdown",
      "metadata": {
        "id": "Y6mvUZ2BJBw_"
      },
      "source": [
        "##1.2 Importing the dataset"
      ]
    },
    {
      "cell_type": "markdown",
      "metadata": {
        "id": "1njb6OCPGXVk"
      },
      "source": [
        "Lets get the data now. I am trying to get data using the kaggle API"
      ]
    },
    {
      "cell_type": "code",
      "metadata": {
        "id": "ainUMf9gF4CQ"
      },
      "source": [
        "! pip install -q kaggle"
      ],
      "execution_count": 1,
      "outputs": []
    },
    {
      "cell_type": "code",
      "metadata": {
        "colab": {
          "resources": {
            "http://localhost:8080/nbextensions/google.colab/files.js": {
              "data": "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",
              "ok": true,
              "headers": [
                [
                  "content-type",
                  "application/javascript"
                ]
              ],
              "status": 200,
              "status_text": ""
            }
          },
          "base_uri": "https://localhost:8080/",
          "height": 89
        },
        "id": "KHkANtLzGqG5",
        "outputId": "feef594e-c628-42ee-998c-fb8690e13a3e"
      },
      "source": [
        "from google.colab import files\n",
        "files.upload()"
      ],
      "execution_count": 3,
      "outputs": [
        {
          "output_type": "display_data",
          "data": {
            "text/html": [
              "\n",
              "     <input type=\"file\" id=\"files-ac4cb4be-7061-40ed-a69f-e8ada866e159\" name=\"files[]\" multiple disabled\n",
              "        style=\"border:none\" />\n",
              "     <output id=\"result-ac4cb4be-7061-40ed-a69f-e8ada866e159\">\n",
              "      Upload widget is only available when the cell has been executed in the\n",
              "      current browser session. Please rerun this cell to enable.\n",
              "      </output>\n",
              "      <script src=\"/nbextensions/google.colab/files.js\"></script> "
            ],
            "text/plain": [
              "<IPython.core.display.HTML object>"
            ]
          },
          "metadata": {
            "tags": []
          }
        },
        {
          "output_type": "stream",
          "text": [
            "Saving kaggle.json to kaggle.json\n"
          ],
          "name": "stdout"
        },
        {
          "output_type": "execute_result",
          "data": {
            "text/plain": [
              "{'kaggle.json': b'{\"username\":\"pravallikamyneni\",\"key\":\"f400013ae3d536d45782090d7d170263\"}'}"
            ]
          },
          "metadata": {
            "tags": []
          },
          "execution_count": 3
        }
      ]
    },
    {
      "cell_type": "code",
      "metadata": {
        "id": "VM2LX5dxGwsj"
      },
      "source": [
        "! mkdir ~/.kaggle\n",
        "\n",
        "! cp kaggle.json ~/.kaggle/"
      ],
      "execution_count": 4,
      "outputs": []
    },
    {
      "cell_type": "code",
      "metadata": {
        "id": "5VxuJ5QnHE8J"
      },
      "source": [
        " ! chmod 600 ~/.kaggle/kaggle.json"
      ],
      "execution_count": 6,
      "outputs": []
    },
    {
      "cell_type": "code",
      "metadata": {
        "colab": {
          "base_uri": "https://localhost:8080/"
        },
        "id": "JNPyjWOPH0KY",
        "outputId": "b97b4233-e27a-4195-fd75-ccba0b2fff38"
      },
      "source": [
        "!kaggle datasets download -d brllrb/uber-and-lyft-dataset-boston-ma"
      ],
      "execution_count": 8,
      "outputs": [
        {
          "output_type": "stream",
          "text": [
            "Downloading uber-and-lyft-dataset-boston-ma.zip to /content\n",
            " 88% 39.0M/44.5M [00:00<00:00, 48.7MB/s]\n",
            "100% 44.5M/44.5M [00:00<00:00, 100MB/s] \n"
          ],
          "name": "stdout"
        }
      ]
    },
    {
      "cell_type": "markdown",
      "metadata": {
        "id": "a7hQjS55H7m2"
      },
      "source": [
        "Now we have our dataset zip file in the run time. Let's Unzip the dataset"
      ]
    },
    {
      "cell_type": "code",
      "metadata": {
        "id": "tu8bHWPZH53s"
      },
      "source": [
        "!mkdir dataset"
      ],
      "execution_count": 9,
      "outputs": []
    },
    {
      "cell_type": "code",
      "metadata": {
        "colab": {
          "base_uri": "https://localhost:8080/"
        },
        "id": "TtNpq6MuIPSw",
        "outputId": "e619a471-4920-4e4e-8ccc-cba6d9fa3921"
      },
      "source": [
        "!unzip /content/uber-and-lyft-dataset-boston-ma.zip -d dataset"
      ],
      "execution_count": 10,
      "outputs": [
        {
          "output_type": "stream",
          "text": [
            "Archive:  /content/uber-and-lyft-dataset-boston-ma.zip\n",
            "  inflating: dataset/rideshare_kaggle.csv  \n"
          ],
          "name": "stdout"
        }
      ]
    },
    {
      "cell_type": "markdown",
      "metadata": {
        "id": "IB8P8ONNIevA"
      },
      "source": [
        "Wohoo!! Now we have the unzipped data at \"/content/dataset/rideshare_kaggle.csv\""
      ]
    },
    {
      "cell_type": "code",
      "metadata": {
        "colab": {
          "base_uri": "https://localhost:8080/",
          "height": 480
        },
        "id": "x5xIyFXtIeEr",
        "outputId": "cfde8eb4-1dd5-4d47-f14b-3eba1f78a8d6"
      },
      "source": [
        "df = pd.read_csv(\"/content/dataset/rideshare_kaggle.csv\")\n",
        "df.head()"
      ],
      "execution_count": 13,
      "outputs": [
        {
          "output_type": "execute_result",
          "data": {
            "text/html": [
              "<div>\n",
              "<style scoped>\n",
              "    .dataframe tbody tr th:only-of-type {\n",
              "        vertical-align: middle;\n",
              "    }\n",
              "\n",
              "    .dataframe tbody tr th {\n",
              "        vertical-align: top;\n",
              "    }\n",
              "\n",
              "    .dataframe thead th {\n",
              "        text-align: right;\n",
              "    }\n",
              "</style>\n",
              "<table border=\"1\" class=\"dataframe\">\n",
              "  <thead>\n",
              "    <tr style=\"text-align: right;\">\n",
              "      <th></th>\n",
              "      <th>id</th>\n",
              "      <th>timestamp</th>\n",
              "      <th>hour</th>\n",
              "      <th>day</th>\n",
              "      <th>month</th>\n",
              "      <th>datetime</th>\n",
              "      <th>timezone</th>\n",
              "      <th>source</th>\n",
              "      <th>destination</th>\n",
              "      <th>cab_type</th>\n",
              "      <th>product_id</th>\n",
              "      <th>name</th>\n",
              "      <th>price</th>\n",
              "      <th>distance</th>\n",
              "      <th>surge_multiplier</th>\n",
              "      <th>latitude</th>\n",
              "      <th>longitude</th>\n",
              "      <th>temperature</th>\n",
              "      <th>apparentTemperature</th>\n",
              "      <th>short_summary</th>\n",
              "      <th>long_summary</th>\n",
              "      <th>precipIntensity</th>\n",
              "      <th>precipProbability</th>\n",
              "      <th>humidity</th>\n",
              "      <th>windSpeed</th>\n",
              "      <th>windGust</th>\n",
              "      <th>windGustTime</th>\n",
              "      <th>visibility</th>\n",
              "      <th>temperatureHigh</th>\n",
              "      <th>temperatureHighTime</th>\n",
              "      <th>temperatureLow</th>\n",
              "      <th>temperatureLowTime</th>\n",
              "      <th>apparentTemperatureHigh</th>\n",
              "      <th>apparentTemperatureHighTime</th>\n",
              "      <th>apparentTemperatureLow</th>\n",
              "      <th>apparentTemperatureLowTime</th>\n",
              "      <th>icon</th>\n",
              "      <th>dewPoint</th>\n",
              "      <th>pressure</th>\n",
              "      <th>windBearing</th>\n",
              "      <th>cloudCover</th>\n",
              "      <th>uvIndex</th>\n",
              "      <th>visibility.1</th>\n",
              "      <th>ozone</th>\n",
              "      <th>sunriseTime</th>\n",
              "      <th>sunsetTime</th>\n",
              "      <th>moonPhase</th>\n",
              "      <th>precipIntensityMax</th>\n",
              "      <th>uvIndexTime</th>\n",
              "      <th>temperatureMin</th>\n",
              "      <th>temperatureMinTime</th>\n",
              "      <th>temperatureMax</th>\n",
              "      <th>temperatureMaxTime</th>\n",
              "      <th>apparentTemperatureMin</th>\n",
              "      <th>apparentTemperatureMinTime</th>\n",
              "      <th>apparentTemperatureMax</th>\n",
              "      <th>apparentTemperatureMaxTime</th>\n",
              "    </tr>\n",
              "  </thead>\n",
              "  <tbody>\n",
              "    <tr>\n",
              "      <th>0</th>\n",
              "      <td>424553bb-7174-41ea-aeb4-fe06d4f4b9d7</td>\n",
              "      <td>1.544953e+09</td>\n",
              "      <td>9</td>\n",
              "      <td>16</td>\n",
              "      <td>12</td>\n",
              "      <td>2018-12-16 09:30:07</td>\n",
              "      <td>America/New_York</td>\n",
              "      <td>Haymarket Square</td>\n",
              "      <td>North Station</td>\n",
              "      <td>Lyft</td>\n",
              "      <td>lyft_line</td>\n",
              "      <td>Shared</td>\n",
              "      <td>5.0</td>\n",
              "      <td>0.44</td>\n",
              "      <td>1.0</td>\n",
              "      <td>42.2148</td>\n",
              "      <td>-71.033</td>\n",
              "      <td>42.34</td>\n",
              "      <td>37.12</td>\n",
              "      <td>Mostly Cloudy</td>\n",
              "      <td>Rain throughout the day.</td>\n",
              "      <td>0.0000</td>\n",
              "      <td>0.0</td>\n",
              "      <td>0.68</td>\n",
              "      <td>8.66</td>\n",
              "      <td>9.17</td>\n",
              "      <td>1545015600</td>\n",
              "      <td>10.000</td>\n",
              "      <td>43.68</td>\n",
              "      <td>1544968800</td>\n",
              "      <td>34.19</td>\n",
              "      <td>1545048000</td>\n",
              "      <td>37.95</td>\n",
              "      <td>1544968800</td>\n",
              "      <td>27.39</td>\n",
              "      <td>1545044400</td>\n",
              "      <td>partly-cloudy-night</td>\n",
              "      <td>32.70</td>\n",
              "      <td>1021.98</td>\n",
              "      <td>57</td>\n",
              "      <td>0.72</td>\n",
              "      <td>0</td>\n",
              "      <td>10.000</td>\n",
              "      <td>303.8</td>\n",
              "      <td>1544962084</td>\n",
              "      <td>1544994864</td>\n",
              "      <td>0.30</td>\n",
              "      <td>0.1276</td>\n",
              "      <td>1544979600</td>\n",
              "      <td>39.89</td>\n",
              "      <td>1545012000</td>\n",
              "      <td>43.68</td>\n",
              "      <td>1544968800</td>\n",
              "      <td>33.73</td>\n",
              "      <td>1545012000</td>\n",
              "      <td>38.07</td>\n",
              "      <td>1544958000</td>\n",
              "    </tr>\n",
              "    <tr>\n",
              "      <th>1</th>\n",
              "      <td>4bd23055-6827-41c6-b23b-3c491f24e74d</td>\n",
              "      <td>1.543284e+09</td>\n",
              "      <td>2</td>\n",
              "      <td>27</td>\n",
              "      <td>11</td>\n",
              "      <td>2018-11-27 02:00:23</td>\n",
              "      <td>America/New_York</td>\n",
              "      <td>Haymarket Square</td>\n",
              "      <td>North Station</td>\n",
              "      <td>Lyft</td>\n",
              "      <td>lyft_premier</td>\n",
              "      <td>Lux</td>\n",
              "      <td>11.0</td>\n",
              "      <td>0.44</td>\n",
              "      <td>1.0</td>\n",
              "      <td>42.2148</td>\n",
              "      <td>-71.033</td>\n",
              "      <td>43.58</td>\n",
              "      <td>37.35</td>\n",
              "      <td>Rain</td>\n",
              "      <td>Rain until morning, starting again in the eve...</td>\n",
              "      <td>0.1299</td>\n",
              "      <td>1.0</td>\n",
              "      <td>0.94</td>\n",
              "      <td>11.98</td>\n",
              "      <td>11.98</td>\n",
              "      <td>1543291200</td>\n",
              "      <td>4.786</td>\n",
              "      <td>47.30</td>\n",
              "      <td>1543251600</td>\n",
              "      <td>42.10</td>\n",
              "      <td>1543298400</td>\n",
              "      <td>43.92</td>\n",
              "      <td>1543251600</td>\n",
              "      <td>36.20</td>\n",
              "      <td>1543291200</td>\n",
              "      <td>rain</td>\n",
              "      <td>41.83</td>\n",
              "      <td>1003.97</td>\n",
              "      <td>90</td>\n",
              "      <td>1.00</td>\n",
              "      <td>0</td>\n",
              "      <td>4.786</td>\n",
              "      <td>291.1</td>\n",
              "      <td>1543232969</td>\n",
              "      <td>1543266992</td>\n",
              "      <td>0.64</td>\n",
              "      <td>0.1300</td>\n",
              "      <td>1543251600</td>\n",
              "      <td>40.49</td>\n",
              "      <td>1543233600</td>\n",
              "      <td>47.30</td>\n",
              "      <td>1543251600</td>\n",
              "      <td>36.20</td>\n",
              "      <td>1543291200</td>\n",
              "      <td>43.92</td>\n",
              "      <td>1543251600</td>\n",
              "    </tr>\n",
              "    <tr>\n",
              "      <th>2</th>\n",
              "      <td>981a3613-77af-4620-a42a-0c0866077d1e</td>\n",
              "      <td>1.543367e+09</td>\n",
              "      <td>1</td>\n",
              "      <td>28</td>\n",
              "      <td>11</td>\n",
              "      <td>2018-11-28 01:00:22</td>\n",
              "      <td>America/New_York</td>\n",
              "      <td>Haymarket Square</td>\n",
              "      <td>North Station</td>\n",
              "      <td>Lyft</td>\n",
              "      <td>lyft</td>\n",
              "      <td>Lyft</td>\n",
              "      <td>7.0</td>\n",
              "      <td>0.44</td>\n",
              "      <td>1.0</td>\n",
              "      <td>42.2148</td>\n",
              "      <td>-71.033</td>\n",
              "      <td>38.33</td>\n",
              "      <td>32.93</td>\n",
              "      <td>Clear</td>\n",
              "      <td>Light rain in the morning.</td>\n",
              "      <td>0.0000</td>\n",
              "      <td>0.0</td>\n",
              "      <td>0.75</td>\n",
              "      <td>7.33</td>\n",
              "      <td>7.33</td>\n",
              "      <td>1543334400</td>\n",
              "      <td>10.000</td>\n",
              "      <td>47.55</td>\n",
              "      <td>1543320000</td>\n",
              "      <td>33.10</td>\n",
              "      <td>1543402800</td>\n",
              "      <td>44.12</td>\n",
              "      <td>1543320000</td>\n",
              "      <td>29.11</td>\n",
              "      <td>1543392000</td>\n",
              "      <td>clear-night</td>\n",
              "      <td>31.10</td>\n",
              "      <td>992.28</td>\n",
              "      <td>240</td>\n",
              "      <td>0.03</td>\n",
              "      <td>0</td>\n",
              "      <td>10.000</td>\n",
              "      <td>315.7</td>\n",
              "      <td>1543319437</td>\n",
              "      <td>1543353364</td>\n",
              "      <td>0.68</td>\n",
              "      <td>0.1064</td>\n",
              "      <td>1543338000</td>\n",
              "      <td>35.36</td>\n",
              "      <td>1543377600</td>\n",
              "      <td>47.55</td>\n",
              "      <td>1543320000</td>\n",
              "      <td>31.04</td>\n",
              "      <td>1543377600</td>\n",
              "      <td>44.12</td>\n",
              "      <td>1543320000</td>\n",
              "    </tr>\n",
              "    <tr>\n",
              "      <th>3</th>\n",
              "      <td>c2d88af2-d278-4bfd-a8d0-29ca77cc5512</td>\n",
              "      <td>1.543554e+09</td>\n",
              "      <td>4</td>\n",
              "      <td>30</td>\n",
              "      <td>11</td>\n",
              "      <td>2018-11-30 04:53:02</td>\n",
              "      <td>America/New_York</td>\n",
              "      <td>Haymarket Square</td>\n",
              "      <td>North Station</td>\n",
              "      <td>Lyft</td>\n",
              "      <td>lyft_luxsuv</td>\n",
              "      <td>Lux Black XL</td>\n",
              "      <td>26.0</td>\n",
              "      <td>0.44</td>\n",
              "      <td>1.0</td>\n",
              "      <td>42.2148</td>\n",
              "      <td>-71.033</td>\n",
              "      <td>34.38</td>\n",
              "      <td>29.63</td>\n",
              "      <td>Clear</td>\n",
              "      <td>Partly cloudy throughout the day.</td>\n",
              "      <td>0.0000</td>\n",
              "      <td>0.0</td>\n",
              "      <td>0.73</td>\n",
              "      <td>5.28</td>\n",
              "      <td>5.28</td>\n",
              "      <td>1543514400</td>\n",
              "      <td>10.000</td>\n",
              "      <td>45.03</td>\n",
              "      <td>1543510800</td>\n",
              "      <td>28.90</td>\n",
              "      <td>1543579200</td>\n",
              "      <td>38.53</td>\n",
              "      <td>1543510800</td>\n",
              "      <td>26.20</td>\n",
              "      <td>1543575600</td>\n",
              "      <td>clear-night</td>\n",
              "      <td>26.64</td>\n",
              "      <td>1013.73</td>\n",
              "      <td>310</td>\n",
              "      <td>0.00</td>\n",
              "      <td>0</td>\n",
              "      <td>10.000</td>\n",
              "      <td>291.1</td>\n",
              "      <td>1543492370</td>\n",
              "      <td>1543526114</td>\n",
              "      <td>0.75</td>\n",
              "      <td>0.0000</td>\n",
              "      <td>1543507200</td>\n",
              "      <td>34.67</td>\n",
              "      <td>1543550400</td>\n",
              "      <td>45.03</td>\n",
              "      <td>1543510800</td>\n",
              "      <td>30.30</td>\n",
              "      <td>1543550400</td>\n",
              "      <td>38.53</td>\n",
              "      <td>1543510800</td>\n",
              "    </tr>\n",
              "    <tr>\n",
              "      <th>4</th>\n",
              "      <td>e0126e1f-8ca9-4f2e-82b3-50505a09db9a</td>\n",
              "      <td>1.543463e+09</td>\n",
              "      <td>3</td>\n",
              "      <td>29</td>\n",
              "      <td>11</td>\n",
              "      <td>2018-11-29 03:49:20</td>\n",
              "      <td>America/New_York</td>\n",
              "      <td>Haymarket Square</td>\n",
              "      <td>North Station</td>\n",
              "      <td>Lyft</td>\n",
              "      <td>lyft_plus</td>\n",
              "      <td>Lyft XL</td>\n",
              "      <td>9.0</td>\n",
              "      <td>0.44</td>\n",
              "      <td>1.0</td>\n",
              "      <td>42.2148</td>\n",
              "      <td>-71.033</td>\n",
              "      <td>37.44</td>\n",
              "      <td>30.88</td>\n",
              "      <td>Partly Cloudy</td>\n",
              "      <td>Mostly cloudy throughout the day.</td>\n",
              "      <td>0.0000</td>\n",
              "      <td>0.0</td>\n",
              "      <td>0.70</td>\n",
              "      <td>9.14</td>\n",
              "      <td>9.14</td>\n",
              "      <td>1543446000</td>\n",
              "      <td>10.000</td>\n",
              "      <td>42.18</td>\n",
              "      <td>1543420800</td>\n",
              "      <td>36.71</td>\n",
              "      <td>1543478400</td>\n",
              "      <td>35.75</td>\n",
              "      <td>1543420800</td>\n",
              "      <td>30.29</td>\n",
              "      <td>1543460400</td>\n",
              "      <td>partly-cloudy-night</td>\n",
              "      <td>28.61</td>\n",
              "      <td>998.36</td>\n",
              "      <td>303</td>\n",
              "      <td>0.44</td>\n",
              "      <td>0</td>\n",
              "      <td>10.000</td>\n",
              "      <td>347.7</td>\n",
              "      <td>1543405904</td>\n",
              "      <td>1543439738</td>\n",
              "      <td>0.72</td>\n",
              "      <td>0.0001</td>\n",
              "      <td>1543420800</td>\n",
              "      <td>33.10</td>\n",
              "      <td>1543402800</td>\n",
              "      <td>42.18</td>\n",
              "      <td>1543420800</td>\n",
              "      <td>29.11</td>\n",
              "      <td>1543392000</td>\n",
              "      <td>35.75</td>\n",
              "      <td>1543420800</td>\n",
              "    </tr>\n",
              "  </tbody>\n",
              "</table>\n",
              "</div>"
            ],
            "text/plain": [
              "                                     id  ...  apparentTemperatureMaxTime\n",
              "0  424553bb-7174-41ea-aeb4-fe06d4f4b9d7  ...                  1544958000\n",
              "1  4bd23055-6827-41c6-b23b-3c491f24e74d  ...                  1543251600\n",
              "2  981a3613-77af-4620-a42a-0c0866077d1e  ...                  1543320000\n",
              "3  c2d88af2-d278-4bfd-a8d0-29ca77cc5512  ...                  1543510800\n",
              "4  e0126e1f-8ca9-4f2e-82b3-50505a09db9a  ...                  1543420800\n",
              "\n",
              "[5 rows x 57 columns]"
            ]
          },
          "metadata": {
            "tags": []
          },
          "execution_count": 13
        }
      ]
    },
    {
      "cell_type": "markdown",
      "metadata": {
        "id": "QIKo8yCLNDUz"
      },
      "source": [
        "#**2. Exploratory Data Analysis**"
      ]
    },
    {
      "cell_type": "markdown",
      "metadata": {
        "id": "y_WZKhj_NOSg"
      },
      "source": [
        "##2.1 As a whole"
      ]
    },
    {
      "cell_type": "code",
      "metadata": {
        "colab": {
          "base_uri": "https://localhost:8080/"
        },
        "id": "RGB5qaMFIdVc",
        "outputId": "3f40a72b-504f-4c24-d138-deda344b4e81"
      },
      "source": [
        "df.shape"
      ],
      "execution_count": 14,
      "outputs": [
        {
          "output_type": "execute_result",
          "data": {
            "text/plain": [
              "(693071, 57)"
            ]
          },
          "metadata": {
            "tags": []
          },
          "execution_count": 14
        }
      ]
    },
    {
      "cell_type": "code",
      "metadata": {
        "colab": {
          "base_uri": "https://localhost:8080/"
        },
        "id": "Xrh55sypNYI8",
        "outputId": "34298bab-d36f-4951-9826-988d8663d571"
      },
      "source": [
        "df.dtypes"
      ],
      "execution_count": 16,
      "outputs": [
        {
          "output_type": "execute_result",
          "data": {
            "text/plain": [
              "id                              object\n",
              "timestamp                      float64\n",
              "hour                             int64\n",
              "day                              int64\n",
              "month                            int64\n",
              "datetime                        object\n",
              "timezone                        object\n",
              "source                          object\n",
              "destination                     object\n",
              "cab_type                        object\n",
              "product_id                      object\n",
              "name                            object\n",
              "price                          float64\n",
              "distance                       float64\n",
              "surge_multiplier               float64\n",
              "latitude                       float64\n",
              "longitude                      float64\n",
              "temperature                    float64\n",
              "apparentTemperature            float64\n",
              "short_summary                   object\n",
              "long_summary                    object\n",
              "precipIntensity                float64\n",
              "precipProbability              float64\n",
              "humidity                       float64\n",
              "windSpeed                      float64\n",
              "windGust                       float64\n",
              "windGustTime                     int64\n",
              "visibility                     float64\n",
              "temperatureHigh                float64\n",
              "temperatureHighTime              int64\n",
              "temperatureLow                 float64\n",
              "temperatureLowTime               int64\n",
              "apparentTemperatureHigh        float64\n",
              "apparentTemperatureHighTime      int64\n",
              "apparentTemperatureLow         float64\n",
              "apparentTemperatureLowTime       int64\n",
              "icon                            object\n",
              "dewPoint                       float64\n",
              "pressure                       float64\n",
              "windBearing                      int64\n",
              "cloudCover                     float64\n",
              "uvIndex                          int64\n",
              "visibility.1                   float64\n",
              "ozone                          float64\n",
              "sunriseTime                      int64\n",
              "sunsetTime                       int64\n",
              "moonPhase                      float64\n",
              "precipIntensityMax             float64\n",
              "uvIndexTime                      int64\n",
              "temperatureMin                 float64\n",
              "temperatureMinTime               int64\n",
              "temperatureMax                 float64\n",
              "temperatureMaxTime               int64\n",
              "apparentTemperatureMin         float64\n",
              "apparentTemperatureMinTime       int64\n",
              "apparentTemperatureMax         float64\n",
              "apparentTemperatureMaxTime       int64\n",
              "dtype: object"
            ]
          },
          "metadata": {
            "tags": []
          },
          "execution_count": 16
        }
      ]
    },
    {
      "cell_type": "code",
      "metadata": {
        "colab": {
          "base_uri": "https://localhost:8080/",
          "height": 317
        },
        "id": "_QA4fCsHNS0K",
        "outputId": "a76b8002-951b-4980-b06c-90a6c0b05c41"
      },
      "source": [
        "df.describe()"
      ],
      "execution_count": 15,
      "outputs": [
        {
          "output_type": "execute_result",
          "data": {
            "text/html": [
              "<div>\n",
              "<style scoped>\n",
              "    .dataframe tbody tr th:only-of-type {\n",
              "        vertical-align: middle;\n",
              "    }\n",
              "\n",
              "    .dataframe tbody tr th {\n",
              "        vertical-align: top;\n",
              "    }\n",
              "\n",
              "    .dataframe thead th {\n",
              "        text-align: right;\n",
              "    }\n",
              "</style>\n",
              "<table border=\"1\" class=\"dataframe\">\n",
              "  <thead>\n",
              "    <tr style=\"text-align: right;\">\n",
              "      <th></th>\n",
              "      <th>timestamp</th>\n",
              "      <th>hour</th>\n",
              "      <th>day</th>\n",
              "      <th>month</th>\n",
              "      <th>price</th>\n",
              "      <th>distance</th>\n",
              "      <th>surge_multiplier</th>\n",
              "      <th>latitude</th>\n",
              "      <th>longitude</th>\n",
              "      <th>temperature</th>\n",
              "      <th>apparentTemperature</th>\n",
              "      <th>precipIntensity</th>\n",
              "      <th>precipProbability</th>\n",
              "      <th>humidity</th>\n",
              "      <th>windSpeed</th>\n",
              "      <th>windGust</th>\n",
              "      <th>windGustTime</th>\n",
              "      <th>visibility</th>\n",
              "      <th>temperatureHigh</th>\n",
              "      <th>temperatureHighTime</th>\n",
              "      <th>temperatureLow</th>\n",
              "      <th>temperatureLowTime</th>\n",
              "      <th>apparentTemperatureHigh</th>\n",
              "      <th>apparentTemperatureHighTime</th>\n",
              "      <th>apparentTemperatureLow</th>\n",
              "      <th>apparentTemperatureLowTime</th>\n",
              "      <th>dewPoint</th>\n",
              "      <th>pressure</th>\n",
              "      <th>windBearing</th>\n",
              "      <th>cloudCover</th>\n",
              "      <th>uvIndex</th>\n",
              "      <th>visibility.1</th>\n",
              "      <th>ozone</th>\n",
              "      <th>sunriseTime</th>\n",
              "      <th>sunsetTime</th>\n",
              "      <th>moonPhase</th>\n",
              "      <th>precipIntensityMax</th>\n",
              "      <th>uvIndexTime</th>\n",
              "      <th>temperatureMin</th>\n",
              "      <th>temperatureMinTime</th>\n",
              "      <th>temperatureMax</th>\n",
              "      <th>temperatureMaxTime</th>\n",
              "      <th>apparentTemperatureMin</th>\n",
              "      <th>apparentTemperatureMinTime</th>\n",
              "      <th>apparentTemperatureMax</th>\n",
              "      <th>apparentTemperatureMaxTime</th>\n",
              "    </tr>\n",
              "  </thead>\n",
              "  <tbody>\n",
              "    <tr>\n",
              "      <th>count</th>\n",
              "      <td>6.930710e+05</td>\n",
              "      <td>693071.000000</td>\n",
              "      <td>693071.000000</td>\n",
              "      <td>693071.000000</td>\n",
              "      <td>637976.000000</td>\n",
              "      <td>693071.000000</td>\n",
              "      <td>693071.000000</td>\n",
              "      <td>693071.000000</td>\n",
              "      <td>693071.000000</td>\n",
              "      <td>693071.000000</td>\n",
              "      <td>693071.000000</td>\n",
              "      <td>693071.000000</td>\n",
              "      <td>693071.000000</td>\n",
              "      <td>693071.000000</td>\n",
              "      <td>693071.000000</td>\n",
              "      <td>693071.000000</td>\n",
              "      <td>6.930710e+05</td>\n",
              "      <td>693071.000000</td>\n",
              "      <td>693071.000000</td>\n",
              "      <td>6.930710e+05</td>\n",
              "      <td>693071.000000</td>\n",
              "      <td>6.930710e+05</td>\n",
              "      <td>693071.000000</td>\n",
              "      <td>6.930710e+05</td>\n",
              "      <td>693071.000000</td>\n",
              "      <td>6.930710e+05</td>\n",
              "      <td>693071.000000</td>\n",
              "      <td>693071.000000</td>\n",
              "      <td>693071.000000</td>\n",
              "      <td>693071.000000</td>\n",
              "      <td>693071.000000</td>\n",
              "      <td>693071.000000</td>\n",
              "      <td>693071.000000</td>\n",
              "      <td>6.930710e+05</td>\n",
              "      <td>6.930710e+05</td>\n",
              "      <td>693071.000000</td>\n",
              "      <td>693071.000000</td>\n",
              "      <td>6.930710e+05</td>\n",
              "      <td>693071.000000</td>\n",
              "      <td>6.930710e+05</td>\n",
              "      <td>693071.000000</td>\n",
              "      <td>6.930710e+05</td>\n",
              "      <td>693071.000000</td>\n",
              "      <td>6.930710e+05</td>\n",
              "      <td>693071.000000</td>\n",
              "      <td>6.930710e+05</td>\n",
              "    </tr>\n",
              "    <tr>\n",
              "      <th>mean</th>\n",
              "      <td>1.544046e+09</td>\n",
              "      <td>11.619137</td>\n",
              "      <td>17.794365</td>\n",
              "      <td>11.586684</td>\n",
              "      <td>16.545125</td>\n",
              "      <td>2.189430</td>\n",
              "      <td>1.013870</td>\n",
              "      <td>42.338172</td>\n",
              "      <td>-71.066151</td>\n",
              "      <td>39.584388</td>\n",
              "      <td>35.881222</td>\n",
              "      <td>0.008922</td>\n",
              "      <td>0.146076</td>\n",
              "      <td>0.741119</td>\n",
              "      <td>6.186253</td>\n",
              "      <td>8.469860</td>\n",
              "      <td>1.544049e+09</td>\n",
              "      <td>8.467970</td>\n",
              "      <td>45.040982</td>\n",
              "      <td>1.544050e+09</td>\n",
              "      <td>34.150736</td>\n",
              "      <td>1.544102e+09</td>\n",
              "      <td>41.614054</td>\n",
              "      <td>1.544050e+09</td>\n",
              "      <td>30.139824</td>\n",
              "      <td>1.544099e+09</td>\n",
              "      <td>31.656256</td>\n",
              "      <td>1010.094766</td>\n",
              "      <td>220.055853</td>\n",
              "      <td>0.686502</td>\n",
              "      <td>0.248908</td>\n",
              "      <td>8.467970</td>\n",
              "      <td>313.513635</td>\n",
              "      <td>1.544027e+09</td>\n",
              "      <td>1.544060e+09</td>\n",
              "      <td>0.579066</td>\n",
              "      <td>0.037374</td>\n",
              "      <td>1.544044e+09</td>\n",
              "      <td>33.457774</td>\n",
              "      <td>1.544042e+09</td>\n",
              "      <td>45.261313</td>\n",
              "      <td>1.544047e+09</td>\n",
              "      <td>29.731002</td>\n",
              "      <td>1.544048e+09</td>\n",
              "      <td>41.997343</td>\n",
              "      <td>1.544048e+09</td>\n",
              "    </tr>\n",
              "    <tr>\n",
              "      <th>std</th>\n",
              "      <td>6.891925e+05</td>\n",
              "      <td>6.948114</td>\n",
              "      <td>9.982286</td>\n",
              "      <td>0.492429</td>\n",
              "      <td>9.324359</td>\n",
              "      <td>1.138937</td>\n",
              "      <td>0.091641</td>\n",
              "      <td>0.047840</td>\n",
              "      <td>0.020302</td>\n",
              "      <td>6.726084</td>\n",
              "      <td>7.918707</td>\n",
              "      <td>0.026901</td>\n",
              "      <td>0.328938</td>\n",
              "      <td>0.138595</td>\n",
              "      <td>3.148223</td>\n",
              "      <td>5.289179</td>\n",
              "      <td>6.928244e+05</td>\n",
              "      <td>2.602888</td>\n",
              "      <td>5.996541</td>\n",
              "      <td>6.937921e+05</td>\n",
              "      <td>6.383163</td>\n",
              "      <td>6.922923e+05</td>\n",
              "      <td>7.666138</td>\n",
              "      <td>6.941699e+05</td>\n",
              "      <td>8.057468</td>\n",
              "      <td>6.927378e+05</td>\n",
              "      <td>9.142355</td>\n",
              "      <td>13.472899</td>\n",
              "      <td>99.102736</td>\n",
              "      <td>0.358534</td>\n",
              "      <td>0.474097</td>\n",
              "      <td>2.602888</td>\n",
              "      <td>27.953061</td>\n",
              "      <td>6.911393e+05</td>\n",
              "      <td>6.906634e+05</td>\n",
              "      <td>0.244705</td>\n",
              "      <td>0.055214</td>\n",
              "      <td>6.912028e+05</td>\n",
              "      <td>6.467224</td>\n",
              "      <td>6.901954e+05</td>\n",
              "      <td>5.645046</td>\n",
              "      <td>6.901353e+05</td>\n",
              "      <td>7.110494</td>\n",
              "      <td>6.871862e+05</td>\n",
              "      <td>6.936841</td>\n",
              "      <td>6.910777e+05</td>\n",
              "    </tr>\n",
              "    <tr>\n",
              "      <th>min</th>\n",
              "      <td>1.543204e+09</td>\n",
              "      <td>0.000000</td>\n",
              "      <td>1.000000</td>\n",
              "      <td>11.000000</td>\n",
              "      <td>2.500000</td>\n",
              "      <td>0.020000</td>\n",
              "      <td>1.000000</td>\n",
              "      <td>42.214800</td>\n",
              "      <td>-71.105400</td>\n",
              "      <td>18.910000</td>\n",
              "      <td>12.130000</td>\n",
              "      <td>0.000000</td>\n",
              "      <td>0.000000</td>\n",
              "      <td>0.380000</td>\n",
              "      <td>0.450000</td>\n",
              "      <td>0.800000</td>\n",
              "      <td>1.543151e+09</td>\n",
              "      <td>0.717000</td>\n",
              "      <td>32.680000</td>\n",
              "      <td>1.543154e+09</td>\n",
              "      <td>17.850000</td>\n",
              "      <td>1.543234e+09</td>\n",
              "      <td>22.620000</td>\n",
              "      <td>1.543187e+09</td>\n",
              "      <td>11.810000</td>\n",
              "      <td>1.543234e+09</td>\n",
              "      <td>4.390000</td>\n",
              "      <td>988.090000</td>\n",
              "      <td>2.000000</td>\n",
              "      <td>0.000000</td>\n",
              "      <td>0.000000</td>\n",
              "      <td>0.717000</td>\n",
              "      <td>269.400000</td>\n",
              "      <td>1.543147e+09</td>\n",
              "      <td>1.543181e+09</td>\n",
              "      <td>0.090000</td>\n",
              "      <td>0.000000</td>\n",
              "      <td>1.543162e+09</td>\n",
              "      <td>15.630000</td>\n",
              "      <td>1.543122e+09</td>\n",
              "      <td>33.510000</td>\n",
              "      <td>1.543154e+09</td>\n",
              "      <td>11.810000</td>\n",
              "      <td>1.543136e+09</td>\n",
              "      <td>28.950000</td>\n",
              "      <td>1.543187e+09</td>\n",
              "    </tr>\n",
              "    <tr>\n",
              "      <th>25%</th>\n",
              "      <td>1.543444e+09</td>\n",
              "      <td>6.000000</td>\n",
              "      <td>13.000000</td>\n",
              "      <td>11.000000</td>\n",
              "      <td>9.000000</td>\n",
              "      <td>1.280000</td>\n",
              "      <td>1.000000</td>\n",
              "      <td>42.350300</td>\n",
              "      <td>-71.081000</td>\n",
              "      <td>36.450000</td>\n",
              "      <td>31.910000</td>\n",
              "      <td>0.000000</td>\n",
              "      <td>0.000000</td>\n",
              "      <td>0.640000</td>\n",
              "      <td>3.410000</td>\n",
              "      <td>4.060000</td>\n",
              "      <td>1.543432e+09</td>\n",
              "      <td>8.432000</td>\n",
              "      <td>42.570000</td>\n",
              "      <td>1.543439e+09</td>\n",
              "      <td>30.170000</td>\n",
              "      <td>1.543489e+09</td>\n",
              "      <td>36.570000</td>\n",
              "      <td>1.543439e+09</td>\n",
              "      <td>27.700000</td>\n",
              "      <td>1.543478e+09</td>\n",
              "      <td>27.490000</td>\n",
              "      <td>999.820000</td>\n",
              "      <td>124.000000</td>\n",
              "      <td>0.370000</td>\n",
              "      <td>0.000000</td>\n",
              "      <td>8.432000</td>\n",
              "      <td>290.900000</td>\n",
              "      <td>1.543406e+09</td>\n",
              "      <td>1.543440e+09</td>\n",
              "      <td>0.300000</td>\n",
              "      <td>0.000000</td>\n",
              "      <td>1.543421e+09</td>\n",
              "      <td>30.170000</td>\n",
              "      <td>1.543399e+09</td>\n",
              "      <td>42.570000</td>\n",
              "      <td>1.543439e+09</td>\n",
              "      <td>27.760000</td>\n",
              "      <td>1.543399e+09</td>\n",
              "      <td>36.570000</td>\n",
              "      <td>1.543439e+09</td>\n",
              "    </tr>\n",
              "    <tr>\n",
              "      <th>50%</th>\n",
              "      <td>1.543737e+09</td>\n",
              "      <td>12.000000</td>\n",
              "      <td>17.000000</td>\n",
              "      <td>12.000000</td>\n",
              "      <td>13.500000</td>\n",
              "      <td>2.160000</td>\n",
              "      <td>1.000000</td>\n",
              "      <td>42.351900</td>\n",
              "      <td>-71.063100</td>\n",
              "      <td>40.490000</td>\n",
              "      <td>35.900000</td>\n",
              "      <td>0.000000</td>\n",
              "      <td>0.000000</td>\n",
              "      <td>0.710000</td>\n",
              "      <td>5.910000</td>\n",
              "      <td>7.550000</td>\n",
              "      <td>1.543756e+09</td>\n",
              "      <td>9.880000</td>\n",
              "      <td>44.680000</td>\n",
              "      <td>1.543788e+09</td>\n",
              "      <td>34.180000</td>\n",
              "      <td>1.543817e+09</td>\n",
              "      <td>40.950000</td>\n",
              "      <td>1.543788e+09</td>\n",
              "      <td>30.030000</td>\n",
              "      <td>1.543817e+09</td>\n",
              "      <td>30.690000</td>\n",
              "      <td>1009.250000</td>\n",
              "      <td>258.000000</td>\n",
              "      <td>0.820000</td>\n",
              "      <td>0.000000</td>\n",
              "      <td>9.880000</td>\n",
              "      <td>307.400000</td>\n",
              "      <td>1.543752e+09</td>\n",
              "      <td>1.543785e+09</td>\n",
              "      <td>0.680000</td>\n",
              "      <td>0.000400</td>\n",
              "      <td>1.543770e+09</td>\n",
              "      <td>34.240000</td>\n",
              "      <td>1.543727e+09</td>\n",
              "      <td>44.680000</td>\n",
              "      <td>1.543788e+09</td>\n",
              "      <td>30.130000</td>\n",
              "      <td>1.543745e+09</td>\n",
              "      <td>40.950000</td>\n",
              "      <td>1.543788e+09</td>\n",
              "    </tr>\n",
              "    <tr>\n",
              "      <th>75%</th>\n",
              "      <td>1.544828e+09</td>\n",
              "      <td>18.000000</td>\n",
              "      <td>28.000000</td>\n",
              "      <td>12.000000</td>\n",
              "      <td>22.500000</td>\n",
              "      <td>2.920000</td>\n",
              "      <td>1.000000</td>\n",
              "      <td>42.364700</td>\n",
              "      <td>-71.054200</td>\n",
              "      <td>43.580000</td>\n",
              "      <td>40.080000</td>\n",
              "      <td>0.000000</td>\n",
              "      <td>0.000000</td>\n",
              "      <td>0.880000</td>\n",
              "      <td>8.410000</td>\n",
              "      <td>11.740000</td>\n",
              "      <td>1.544846e+09</td>\n",
              "      <td>9.996000</td>\n",
              "      <td>46.910000</td>\n",
              "      <td>1.544814e+09</td>\n",
              "      <td>38.730000</td>\n",
              "      <td>1.544836e+09</td>\n",
              "      <td>44.120000</td>\n",
              "      <td>1.544818e+09</td>\n",
              "      <td>35.320000</td>\n",
              "      <td>1.544836e+09</td>\n",
              "      <td>38.120000</td>\n",
              "      <td>1021.860000</td>\n",
              "      <td>303.000000</td>\n",
              "      <td>1.000000</td>\n",
              "      <td>0.000000</td>\n",
              "      <td>9.996000</td>\n",
              "      <td>331.800000</td>\n",
              "      <td>1.544789e+09</td>\n",
              "      <td>1.544822e+09</td>\n",
              "      <td>0.790000</td>\n",
              "      <td>0.091600</td>\n",
              "      <td>1.544807e+09</td>\n",
              "      <td>38.880000</td>\n",
              "      <td>1.544789e+09</td>\n",
              "      <td>46.910000</td>\n",
              "      <td>1.544814e+09</td>\n",
              "      <td>35.710000</td>\n",
              "      <td>1.544789e+09</td>\n",
              "      <td>44.120000</td>\n",
              "      <td>1.544818e+09</td>\n",
              "    </tr>\n",
              "    <tr>\n",
              "      <th>max</th>\n",
              "      <td>1.545161e+09</td>\n",
              "      <td>23.000000</td>\n",
              "      <td>30.000000</td>\n",
              "      <td>12.000000</td>\n",
              "      <td>97.500000</td>\n",
              "      <td>7.860000</td>\n",
              "      <td>3.000000</td>\n",
              "      <td>42.366100</td>\n",
              "      <td>-71.033000</td>\n",
              "      <td>57.220000</td>\n",
              "      <td>57.220000</td>\n",
              "      <td>0.144700</td>\n",
              "      <td>1.000000</td>\n",
              "      <td>0.960000</td>\n",
              "      <td>15.000000</td>\n",
              "      <td>27.250000</td>\n",
              "      <td>1.545127e+09</td>\n",
              "      <td>10.000000</td>\n",
              "      <td>57.870000</td>\n",
              "      <td>1.545160e+09</td>\n",
              "      <td>46.600000</td>\n",
              "      <td>1.545221e+09</td>\n",
              "      <td>57.200000</td>\n",
              "      <td>1.545160e+09</td>\n",
              "      <td>47.250000</td>\n",
              "      <td>1.545199e+09</td>\n",
              "      <td>50.670000</td>\n",
              "      <td>1035.550000</td>\n",
              "      <td>356.000000</td>\n",
              "      <td>1.000000</td>\n",
              "      <td>2.000000</td>\n",
              "      <td>10.000000</td>\n",
              "      <td>378.900000</td>\n",
              "      <td>1.545135e+09</td>\n",
              "      <td>1.545168e+09</td>\n",
              "      <td>0.930000</td>\n",
              "      <td>0.145900</td>\n",
              "      <td>1.545152e+09</td>\n",
              "      <td>43.100000</td>\n",
              "      <td>1.545192e+09</td>\n",
              "      <td>57.870000</td>\n",
              "      <td>1.545109e+09</td>\n",
              "      <td>40.050000</td>\n",
              "      <td>1.545134e+09</td>\n",
              "      <td>57.200000</td>\n",
              "      <td>1.545109e+09</td>\n",
              "    </tr>\n",
              "  </tbody>\n",
              "</table>\n",
              "</div>"
            ],
            "text/plain": [
              "          timestamp  ...  apparentTemperatureMaxTime\n",
              "count  6.930710e+05  ...                6.930710e+05\n",
              "mean   1.544046e+09  ...                1.544048e+09\n",
              "std    6.891925e+05  ...                6.910777e+05\n",
              "min    1.543204e+09  ...                1.543187e+09\n",
              "25%    1.543444e+09  ...                1.543439e+09\n",
              "50%    1.543737e+09  ...                1.543788e+09\n",
              "75%    1.544828e+09  ...                1.544818e+09\n",
              "max    1.545161e+09  ...                1.545109e+09\n",
              "\n",
              "[8 rows x 46 columns]"
            ]
          },
          "metadata": {
            "tags": []
          },
          "execution_count": 15
        }
      ]
    },
    {
      "cell_type": "markdown",
      "metadata": {
        "id": "WvZhPwDLNduj"
      },
      "source": [
        "check for null values"
      ]
    },
    {
      "cell_type": "code",
      "metadata": {
        "colab": {
          "base_uri": "https://localhost:8080/"
        },
        "id": "_KGFDQ3sNgLS",
        "outputId": "7275cd38-716f-49cf-c001-6f6cad42914c"
      },
      "source": [
        "df.isnull().sum()"
      ],
      "execution_count": 17,
      "outputs": [
        {
          "output_type": "execute_result",
          "data": {
            "text/plain": [
              "id                                 0\n",
              "timestamp                          0\n",
              "hour                               0\n",
              "day                                0\n",
              "month                              0\n",
              "datetime                           0\n",
              "timezone                           0\n",
              "source                             0\n",
              "destination                        0\n",
              "cab_type                           0\n",
              "product_id                         0\n",
              "name                               0\n",
              "price                          55095\n",
              "distance                           0\n",
              "surge_multiplier                   0\n",
              "latitude                           0\n",
              "longitude                          0\n",
              "temperature                        0\n",
              "apparentTemperature                0\n",
              "short_summary                      0\n",
              "long_summary                       0\n",
              "precipIntensity                    0\n",
              "precipProbability                  0\n",
              "humidity                           0\n",
              "windSpeed                          0\n",
              "windGust                           0\n",
              "windGustTime                       0\n",
              "visibility                         0\n",
              "temperatureHigh                    0\n",
              "temperatureHighTime                0\n",
              "temperatureLow                     0\n",
              "temperatureLowTime                 0\n",
              "apparentTemperatureHigh            0\n",
              "apparentTemperatureHighTime        0\n",
              "apparentTemperatureLow             0\n",
              "apparentTemperatureLowTime         0\n",
              "icon                               0\n",
              "dewPoint                           0\n",
              "pressure                           0\n",
              "windBearing                        0\n",
              "cloudCover                         0\n",
              "uvIndex                            0\n",
              "visibility.1                       0\n",
              "ozone                              0\n",
              "sunriseTime                        0\n",
              "sunsetTime                         0\n",
              "moonPhase                          0\n",
              "precipIntensityMax                 0\n",
              "uvIndexTime                        0\n",
              "temperatureMin                     0\n",
              "temperatureMinTime                 0\n",
              "temperatureMax                     0\n",
              "temperatureMaxTime                 0\n",
              "apparentTemperatureMin             0\n",
              "apparentTemperatureMinTime         0\n",
              "apparentTemperatureMax             0\n",
              "apparentTemperatureMaxTime         0\n",
              "dtype: int64"
            ]
          },
          "metadata": {
            "tags": []
          },
          "execution_count": 17
        }
      ]
    },
    {
      "cell_type": "markdown",
      "metadata": {
        "id": "ndsuJvv8O3ja"
      },
      "source": [
        "As we have a large dataset we can drop the rows with null values"
      ]
    },
    {
      "cell_type": "code",
      "metadata": {
        "id": "mTu2o3KMO2_N"
      },
      "source": [
        "df = df.dropna()"
      ],
      "execution_count": 18,
      "outputs": []
    },
    {
      "cell_type": "code",
      "metadata": {
        "colab": {
          "base_uri": "https://localhost:8080/"
        },
        "id": "7QJum1sMPKST",
        "outputId": "ccd0bd79-9f72-4afe-b7de-66032ee922f9"
      },
      "source": [
        "df['price'].isnull().sum()"
      ],
      "execution_count": 19,
      "outputs": [
        {
          "output_type": "execute_result",
          "data": {
            "text/plain": [
              "0"
            ]
          },
          "metadata": {
            "tags": []
          },
          "execution_count": 19
        }
      ]
    },
    {
      "cell_type": "markdown",
      "metadata": {
        "id": "0_lPRRgzPqOR"
      },
      "source": [
        "dropping id column"
      ]
    },
    {
      "cell_type": "code",
      "metadata": {
        "id": "xeYXrTxwPpzm"
      },
      "source": [
        "df = df.drop(columns=['id'])"
      ],
      "execution_count": 20,
      "outputs": []
    },
    {
      "cell_type": "markdown",
      "metadata": {
        "id": "AIPPuQVQPTRb"
      },
      "source": [
        "Categorical columns in the dataset\n",
        "\n",
        "*type == object*"
      ]
    },
    {
      "cell_type": "code",
      "metadata": {
        "colab": {
          "base_uri": "https://localhost:8080/"
        },
        "id": "J5WPIYOAQRph",
        "outputId": "a58470e7-6d17-42b1-abd1-cf8402239a12"
      },
      "source": [
        "cols = df.columns\n",
        "numeric_cols = df._get_numeric_data().columns\n",
        "categorical_columns = list(set(cols) - set(numeric_cols))\n",
        "categorical_columns"
      ],
      "execution_count": 22,
      "outputs": [
        {
          "output_type": "execute_result",
          "data": {
            "text/plain": [
              "['source',\n",
              " 'icon',\n",
              " 'name',\n",
              " 'cab_type',\n",
              " 'timezone',\n",
              " 'destination',\n",
              " 'short_summary',\n",
              " 'datetime',\n",
              " 'product_id',\n",
              " 'long_summary']"
            ]
          },
          "metadata": {
            "tags": []
          },
          "execution_count": 22
        }
      ]
    },
    {
      "cell_type": "markdown",
      "metadata": {
        "id": "17ztAzArQpN_"
      },
      "source": [
        "Analysing each categorical columns"
      ]
    },
    {
      "cell_type": "code",
      "metadata": {
        "colab": {
          "base_uri": "https://localhost:8080/"
        },
        "id": "6qjtQRpmPSqn",
        "outputId": "65ff4cca-4a1b-46d6-9941-0bcc185743a7"
      },
      "source": [
        "set(df['source'])"
      ],
      "execution_count": 23,
      "outputs": [
        {
          "output_type": "execute_result",
          "data": {
            "text/plain": [
              "{'Back Bay',\n",
              " 'Beacon Hill',\n",
              " 'Boston University',\n",
              " 'Fenway',\n",
              " 'Financial District',\n",
              " 'Haymarket Square',\n",
              " 'North End',\n",
              " 'North Station',\n",
              " 'Northeastern University',\n",
              " 'South Station',\n",
              " 'Theatre District',\n",
              " 'West End'}"
            ]
          },
          "metadata": {
            "tags": []
          },
          "execution_count": 23
        }
      ]
    },
    {
      "cell_type": "code",
      "metadata": {
        "colab": {
          "base_uri": "https://localhost:8080/"
        },
        "id": "OkdiBGMVQymN",
        "outputId": "0e231f0e-cad1-44cb-cd67-c661cb3bbbed"
      },
      "source": [
        "set(df['icon'])"
      ],
      "execution_count": 24,
      "outputs": [
        {
          "output_type": "execute_result",
          "data": {
            "text/plain": [
              "{' clear-day ',\n",
              " ' clear-night ',\n",
              " ' cloudy ',\n",
              " ' fog ',\n",
              " ' partly-cloudy-day ',\n",
              " ' partly-cloudy-night ',\n",
              " ' rain '}"
            ]
          },
          "metadata": {
            "tags": []
          },
          "execution_count": 24
        }
      ]
    },
    {
      "cell_type": "code",
      "metadata": {
        "id": "I-Z0-gNcQ3AM"
      },
      "source": [
        ""
      ],
      "execution_count": null,
      "outputs": []
    }
  ]
}